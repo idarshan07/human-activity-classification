{
 "cells": [
  {
   "cell_type": "markdown",
   "id": "46e5ce25",
   "metadata": {},
   "source": [
    "## Fine tuning VGG16, VGG19 and ResNetRS101 for Human Activity Classification"
   ]
  },
  {
   "cell_type": "markdown",
   "id": "c8066c96",
   "metadata": {},
   "source": [
    "### Group: 11 - Darshan Avaiya | Yukta Patel | Vaibhav Sheth | Taranjot Singh"
   ]
  },
  {
   "cell_type": "markdown",
   "id": "60530582",
   "metadata": {},
   "source": [
    "### Professor - Ran Feldesh"
   ]
  },
  {
   "cell_type": "markdown",
   "id": "f5f99aa2",
   "metadata": {},
   "source": [
    "Date - August 6,2023"
   ]
  },
  {
   "cell_type": "markdown",
   "id": "cac8c6a9",
   "metadata": {},
   "source": [
    "## Abstract"
   ]
  },
  {
   "cell_type": "markdown",
   "id": "66d1e846",
   "metadata": {},
   "source": []
  },
  {
   "cell_type": "markdown",
   "id": "2e28844f",
   "metadata": {},
   "source": []
  },
  {
   "cell_type": "markdown",
   "id": "0034840b",
   "metadata": {},
   "source": []
  },
  {
   "cell_type": "markdown",
   "id": "6736bd46",
   "metadata": {},
   "source": []
  }
 ],
 "metadata": {
  "kernelspec": {
   "display_name": "Python 3 (ipykernel)",
   "language": "python",
   "name": "python3"
  },
  "language_info": {
   "codemirror_mode": {
    "name": "ipython",
    "version": 3
   },
   "file_extension": ".py",
   "mimetype": "text/x-python",
   "name": "python",
   "nbconvert_exporter": "python",
   "pygments_lexer": "ipython3",
   "version": "3.11.4"
  }
 },
 "nbformat": 4,
 "nbformat_minor": 5
}
