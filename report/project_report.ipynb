{
 "cells": [
  {
   "cell_type": "markdown",
   "id": "15f3d9a2",
   "metadata": {},
   "source": [
    "## Fine tuning VGG16, VGG19 and ResNetRS101 for Human Activity Classification"
   ]
  },
  {
   "cell_type": "markdown",
   "id": "a1f98fd2",
   "metadata": {},
   "source": [
    "### Group: 11 - Darshan Avaiya | Yukta Patel | Vaibhav Sheth | Taranjot Singh"
   ]
  },
  {
   "cell_type": "markdown",
   "id": "ab5fbfbf",
   "metadata": {},
   "source": [
    "### Professor - Ran Feldesh"
   ]
  },
  {
   "cell_type": "markdown",
   "id": "e5a2a77e",
   "metadata": {},
   "source": [
    "Date - August 6,2023"
   ]
  },
  {
   "cell_type": "markdown",
   "id": "027391b2",
   "metadata": {},
   "source": [
    "## Abstract"
   ]
  },
  {
   "cell_type": "markdown",
   "id": "72a264e3",
   "metadata": {},
   "source": [
    "The aim of this project is to fine tune three CNN models for human activity classification. The project utilizes popular pre-trained models such as VGG16, VGG19, and ResNet101 to achieve high prediction accuracy. "
   ]
  },
  {
   "cell_type": "markdown",
   "id": "54d01957",
   "metadata": {},
   "source": [
    "The project involves preprocessing input images to match the input size required by the models. The chosen model is loaded and fine-tuned for the specific image classification task. The models' architectures are adjusted by freezing certain layers to prevent overfitting. Additionally, techniques such as dropout and regularization are employed to enhance the models' generalization capabilities."
   ]
  },
  {
   "cell_type": "markdown",
   "id": "90ac7ce5",
   "metadata": {},
   "source": [
    "The Human Activity Recognition (HAR) dataset used for training and evaluation consists of labeled images belonging to different classes. The models are trained on a subset of the dataset and validated on another subset. Dataset contations 15 different classes presenting various human activities."
   ]
  },
  {
   "cell_type": "markdown",
   "id": "86bed066",
   "metadata": {},
   "source": [
    "The project's report highlights the technical aspects of implementing deep learning models, including model selection, architecture, preprocessing, and training. It emphasizes the results achieved through experimentation and provides insights into the challenges and solutions encountered during the project. By focusing on accurate image classification using deep learning, this project contributes to the broader field of computer vision and pattern recognition."
   ]
  },
  {
   "cell_type": "markdown",
   "id": "9551a651",
   "metadata": {},
   "source": [
    "## Introduction"
   ]
  },
  {
   "cell_type": "markdown",
   "id": "2abd9821",
   "metadata": {},
   "source": [
    "In the field of computer vision and artificial intelligence, image classification stands as a fundamental task with wide range of applications. Accurate and automated recognition of objects and activities within images is important for numerous domains, including healthcare, surveillance, and entertainment. The Image Classification Project seeks to address this task through the implementation of cutting-edge deep learning techniques, leveraging well-established pre-trained models such as VGG16, VGG19, and ResNetRS101."
   ]
  },
  {
   "cell_type": "code",
   "execution_count": null,
   "id": "989dae6c",
   "metadata": {},
   "outputs": [],
   "source": []
  }
 ],
 "metadata": {
  "kernelspec": {
   "display_name": "Python 3 (ipykernel)",
   "language": "python",
   "name": "python3"
  },
  "language_info": {
   "codemirror_mode": {
    "name": "ipython",
    "version": 3
   },
   "file_extension": ".py",
   "mimetype": "text/x-python",
   "name": "python",
   "nbconvert_exporter": "python",
   "pygments_lexer": "ipython3",
   "version": "3.11.4"
  }
 },
 "nbformat": 4,
 "nbformat_minor": 5
}
